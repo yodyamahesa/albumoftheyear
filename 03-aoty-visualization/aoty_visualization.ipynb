{
 "cells": [
  {
   "cell_type": "markdown",
   "id": "9155c11dfced4a0d",
   "metadata": {},
   "source": [
    "# Eksplorasi - Random Album"
   ]
  },
  {
   "cell_type": "code",
   "execution_count": 1,
   "id": "e4b76f20181cf6d",
   "metadata": {
    "ExecuteTime": {
     "end_time": "2024-05-19T04:30:28.821920Z",
     "start_time": "2024-05-19T04:30:28.290226Z"
    }
   },
   "source": [
    "import pandas as pd\n",
    "\n",
    "\n",
    "def random_album(df):\n",
    "    return df.sample(10)\n",
    "\n",
    "\n",
    "df_albums = pd.read_csv('dataset/albums.csv', sep=';')\n",
    "random_album(df_albums)"
   ],
   "outputs": []
  },
  {
   "cell_type": "markdown",
   "id": "547d58725a852411",
   "metadata": {},
   "source": [
    "# Eksplorasi - Fuzzy Search"
   ]
  },
  {
   "cell_type": "code",
   "execution_count": 38,
   "id": "initial_id",
   "metadata": {
    "ExecuteTime": {
     "end_time": "2024-05-18T14:17:47.363634Z",
     "start_time": "2024-05-18T14:17:47.118312Z"
    },
    "collapsed": true
   },
   "source": [
    "import pandas as pd\n",
    "from fuzzywuzzy import fuzz\n",
    "\n",
    "\n",
    "def search_album(df, query):\n",
    "    df['Score'] = df['artis album'].apply(lambda x: fuzz.token_sort_ratio(x, query))\n",
    "    return df.sort_values(by='Score', ascending=False).head(10)\n",
    "\n",
    "\n",
    "df_albums = pd.read_csv('dataset/albums.csv', sep=';')\n",
    "df_albums['artis album'] = df_albums['artis'] + ' - ' + df_albums['album']\n",
    "search_album(df_albums, \"taylor 1989\")"
   ],
   "outputs": []
  },
  {
   "cell_type": "markdown",
   "id": "43a2b11572f2a63b",
   "metadata": {},
   "source": [
    "# Koleksi Saya - Ratings"
   ]
  },
  {
   "cell_type": "code",
   "id": "100ccda529fa8f4c",
   "metadata": {
    "ExecuteTime": {
     "end_time": "2024-06-12T08:31:39.987991Z",
     "start_time": "2024-06-12T08:31:39.310463Z"
    }
   },
   "source": [
    "import pandas as pd\n",
    "\n",
    "df_albums = pd.read_csv('dataset/albums.csv', sep=';')\n"
   ],
   "execution_count": 1,
   "outputs": []
  },
  {
   "metadata": {
    "ExecuteTime": {
     "end_time": "2024-06-12T08:32:19.527053Z",
     "start_time": "2024-06-12T08:32:19.443046Z"
    }
   },
   "cell_type": "code",
   "source": [
    "# Library pandas untuk data\n",
    "import pandas as pd\n",
    "# Library Django untuk render HTML\n",
    "from django.shortcuts import render\n",
    "# Library FuzzyWuzzy untuk search query\n",
    "from fuzzywuzzy import fuzz\n",
    "# Library scikit-learn untuk rekomendasi similarity\n",
    "from sklearn.metrics.pairwise import cosine_similarity\n",
    "\n",
    "# Baca csv ratings.csv dengan separator titik koma\n",
    "df_rating = pd.read_csv('myproject/myapp/dataset/ratings.csv', sep=';')\n",
    "# Baca csv albums.csv dengan separator titik koma\n",
    "df_album = pd.read_csv('myproject/myapp/dataset/albums.csv', sep=';')\n",
    "# Cleaning untuk separator data titik koma garis menjadi koma\n",
    "df_album = df_album.apply(lambda x: x.str.replace(';|', ', '))\n",
    "# Isi input rating menjadi -1 untuk rating album kosong\n",
    "df_album['input'] = -1\n"
   ],
   "id": "6821856d9077a51e",
   "execution_count": 4,
   "outputs": []
  },
  {
   "metadata": {
    "ExecuteTime": {
     "end_time": "2024-06-12T08:36:12.342776Z",
     "start_time": "2024-06-12T08:36:12.339047Z"
    }
   },
   "cell_type": "code",
   "source": [
    "def search_album(df, query):\n",
    "    # Buat kolom artis album untuk menyimpan gabungan artis dan album\n",
    "    df['artis_album'] = df['artis'] + ' - ' + df['album']\n",
    "    # Buat kolom fuzzy score untuk menyimpan hasil skor fuzzy search\n",
    "    df['fuzzy_score'] = df['artis_album'].apply(lambda x: fuzz.token_sort_ratio(x, query))\n",
    "    # Ambil top 20 album tercocok teratas\n",
    "    top_results = df.sort_values(by='fuzzy_score', ascending=False).head(20)\n",
    "    # Variabel list kosong untuk menyimpan detail album\n",
    "    results = list()\n",
    "    # Looping setiap album pada top_results\n",
    "    for row in top_results.to_dict(orient='records'):\n",
    "        # Menambahkan dictionary masing-masing album ke list\n",
    "        results.append(row)\n",
    "    # Nilai kembalian function\n",
    "    return results"
   ],
   "id": "341534677260fb72",
   "execution_count": 15,
   "outputs": []
  },
  {
   "metadata": {
    "ExecuteTime": {
     "end_time": "2024-06-12T08:36:13.876526Z",
     "start_time": "2024-06-12T08:36:13.761340Z"
    }
   },
   "cell_type": "code",
   "source": "search_album(df_album, \"tes\")",
   "id": "d813818ce7889b55",
   "execution_count": 16,
   "outputs": []
  },
  {
   "metadata": {},
   "cell_type": "code",
   "execution_count": null,
   "source": "",
   "id": "1ce917256490ac7a",
   "outputs": []
  }
 ],
 "metadata": {
  "kernelspec": {
   "display_name": "Python 3",
   "language": "python",
   "name": "python3"
  },
  "language_info": {
   "codemirror_mode": {
    "name": "ipython",
    "version": 2
   },
   "file_extension": ".py",
   "mimetype": "text/x-python",
   "name": "python",
   "nbconvert_exporter": "python",
   "pygments_lexer": "ipython2",
   "version": "3.12.3"
  }
 },
 "nbformat": 4,
 "nbformat_minor": 5
}

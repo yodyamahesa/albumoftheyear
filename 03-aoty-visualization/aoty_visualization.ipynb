{
 "cells": [
  {
   "cell_type": "markdown",
   "id": "9155c11dfced4a0d",
   "metadata": {},
   "source": [
    "# Eksplorasi - Random Album"
   ]
  },
  {
   "cell_type": "code",
   "execution_count": 1,
   "id": "e4b76f20181cf6d",
   "metadata": {
    "ExecuteTime": {
     "end_time": "2024-05-19T04:30:28.821920Z",
     "start_time": "2024-05-19T04:30:28.290226Z"
    }
   },
   "source": [
    "import pandas as pd\n",
    "\n",
    "\n",
    "def random_album(df):\n",
    "    return df.sample(10)\n",
    "\n",
    "\n",
    "df_albums = pd.read_csv('dataset/albums.csv', sep=';')\n",
    "random_album(df_albums)"
   ],
   "outputs": []
  },
  {
   "cell_type": "markdown",
   "id": "547d58725a852411",
   "metadata": {},
   "source": [
    "# Eksplorasi - Fuzzy Search"
   ]
  },
  {
   "cell_type": "code",
   "execution_count": 38,
   "id": "initial_id",
   "metadata": {
    "ExecuteTime": {
     "end_time": "2024-05-18T14:17:47.363634Z",
     "start_time": "2024-05-18T14:17:47.118312Z"
    },
    "collapsed": true
   },
   "source": [
    "import pandas as pd\n",
    "from fuzzywuzzy import fuzz\n",
    "\n",
    "\n",
    "def search_album(df, query):\n",
    "    df['Score'] = df['artis album'].apply(lambda x: fuzz.token_sort_ratio(x, query))\n",
    "    return df.sort_values(by='Score', ascending=False).head(10)\n",
    "\n",
    "\n",
    "df_albums = pd.read_csv('dataset/albums.csv', sep=';')\n",
    "df_albums['artis album'] = df_albums['artis'] + ' - ' + df_albums['album']\n",
    "search_album(df_albums, \"taylor 1989\")"
   ],
   "outputs": []
  },
  {
   "cell_type": "markdown",
   "id": "43a2b11572f2a63b",
   "metadata": {},
   "source": [
    "# Koleksi Saya - Ratings"
   ]
  },
  {
   "cell_type": "code",
   "execution_count": null,
   "id": "100ccda529fa8f4c",
   "metadata": {},
   "source": [
    "import pandas as pd\n",
    "\n",
    "df_albums = pd.read_csv('dataset/albums.csv', sep=';')\n"
   ],
   "outputs": []
  },
  {
   "cell_type": "code",
   "execution_count": null,
   "id": "46f1f107af0c35a4",
   "metadata": {},
   "source": [
    "# make hello world"
   ],
   "outputs": []
  }
 ],
 "metadata": {
  "kernelspec": {
   "display_name": "Python 3",
   "language": "python",
   "name": "python3"
  },
  "language_info": {
   "codemirror_mode": {
    "name": "ipython",
    "version": 2
   },
   "file_extension": ".py",
   "mimetype": "text/x-python",
   "name": "python",
   "nbconvert_exporter": "python",
   "pygments_lexer": "ipython2",
   "version": "3.12.3"
  }
 },
 "nbformat": 4,
 "nbformat_minor": 5
}

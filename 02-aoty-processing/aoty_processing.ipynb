{
 "cells": [
  {
   "cell_type": "markdown",
   "metadata": {
    "id": "KtsNJAWR1kuk"
   },
   "source": [
    "# **Collaborative Filtering**"
   ]
  },
  {
   "cell_type": "code",
   "execution_count": null,
   "metadata": {
    "colab": {
     "base_uri": "https://localhost:8080/"
    },
    "id": "McxSrAsxEhP9",
    "outputId": "ccc59dea-1dc1-4a06-f040-5ce2a65657a9"
   },
   "source": [
    "from google.colab import drive\n",
    "drive.mount('/content/drive/')"
   ],
   "outputs": []
  },
  {
   "cell_type": "code",
   "metadata": {
    "id": "AWITJH6IuVVr",
    "ExecuteTime": {
     "end_time": "2024-05-04T09:59:48.419514Z",
     "start_time": "2024-05-04T09:59:48.415262Z"
    }
   },
   "source": [
    "import pandas as pd\n",
    "import numpy as np\n",
    "import matplotlib.pyplot as plt\n",
    "from matplotlib.lines import Line2D\n",
    "import seaborn as sns"
   ],
   "execution_count": 1,
   "outputs": []
  },
  {
   "cell_type": "code",
   "metadata": {
    "id": "jQiGTHO8FsU7",
    "ExecuteTime": {
     "end_time": "2024-05-04T09:59:57.151523Z",
     "start_time": "2024-05-04T09:59:57.147670Z"
    }
   },
   "source": "path= \"./\"",
   "execution_count": 2,
   "outputs": []
  },
  {
   "cell_type": "code",
   "metadata": {
    "id": "3Ere2u4W36K-",
    "ExecuteTime": {
     "end_time": "2024-05-04T10:00:03.880282Z",
     "start_time": "2024-05-04T10:00:03.877150Z"
    }
   },
   "source": [
    "pd.set_option('display.max_columns', None)\n",
    "path=\"./\""
   ],
   "execution_count": 3,
   "outputs": []
  },
  {
   "cell_type": "code",
   "metadata": {
    "id": "rfP8Br2IuuuM",
    "colab": {
     "base_uri": "https://localhost:8080/",
     "height": 423
    },
    "outputId": "eb696ef5-a322-49cc-b167-5170a1ea2571",
    "ExecuteTime": {
     "end_time": "2024-05-04T10:00:48.153733Z",
     "start_time": "2024-05-04T10:00:48.116395Z"
    }
   },
   "source": [
    "df_ratings = pd.read_csv('dataset/ratings.csv', sep=';')\n",
    "df_ratings"
   ],
   "execution_count": 5,
   "outputs": []
  },
  {
   "cell_type": "code",
   "metadata": {
    "id": "36IFtjnBvY6y",
    "colab": {
     "base_uri": "https://localhost:8080/",
     "height": 423
    },
    "outputId": "9db78fdb-4787-4ace-9834-a6c2e5ad0493",
    "ExecuteTime": {
     "end_time": "2024-05-04T10:02:55.442096Z",
     "start_time": "2024-05-04T10:02:55.432317Z"
    }
   },
   "source": [
    "subset = df_ratings[df_ratings['user'].isin(['lobsterratesig'])]\n",
    "subset"
   ],
   "execution_count": 6,
   "outputs": []
  },
  {
   "cell_type": "code",
   "metadata": {
    "id": "rlVcDVv6vVzF",
    "colab": {
     "base_uri": "https://localhost:8080/"
    },
    "outputId": "3fb530d2-2649-4d1a-a7c9-7544608454e1",
    "ExecuteTime": {
     "end_time": "2024-05-04T10:03:29.891189Z",
     "start_time": "2024-05-04T10:03:29.885662Z"
    }
   },
   "source": [
    "unique_users_count = df_ratings['user'].nunique()\n",
    "unique_users_count"
   ],
   "execution_count": 7,
   "outputs": []
  },
  {
   "cell_type": "code",
   "metadata": {
    "id": "FCKb1kr1vp3e",
    "colab": {
     "base_uri": "https://localhost:8080/"
    },
    "outputId": "afa617e0-dfc9-491f-8f8f-9c735d571817",
    "ExecuteTime": {
     "end_time": "2024-05-04T10:04:08.326615Z",
     "start_time": "2024-05-04T10:04:08.320771Z"
    }
   },
   "source": [
    "df_ratings['link_album'].count()"
   ],
   "execution_count": 9,
   "outputs": []
  },
  {
   "cell_type": "code",
   "metadata": {
    "id": "Pi3_4S7AwEPP",
    "colab": {
     "base_uri": "https://localhost:8080/"
    },
    "outputId": "cf11f925-360c-4e1a-f2a1-d7dc93b2cac1",
    "ExecuteTime": {
     "end_time": "2024-05-04T10:04:08.728671Z",
     "start_time": "2024-05-04T10:04:08.723046Z"
    }
   },
   "source": [
    "df_ratings['link_album'].nunique()"
   ],
   "execution_count": 10,
   "outputs": []
  },
  {
   "cell_type": "code",
   "metadata": {
    "id": "WjuME2t1wjKl",
    "colab": {
     "base_uri": "https://localhost:8080/"
    },
    "outputId": "9c6def8f-94e3-416b-ab9f-af973fe1c6c2",
    "ExecuteTime": {
     "end_time": "2024-05-04T10:04:09.614237Z",
     "start_time": "2024-05-04T10:04:09.609145Z"
    }
   },
   "source": [
    "df_ratings.columns"
   ],
   "execution_count": 11,
   "outputs": []
  },
  {
   "cell_type": "code",
   "metadata": {
    "id": "vq__3iX32Zcc",
    "colab": {
     "base_uri": "https://localhost:8080/",
     "height": 381
    },
    "outputId": "343c9797-7110-456c-baed-68df3e5c52ef",
    "ExecuteTime": {
     "end_time": "2024-05-04T10:04:12.185923Z",
     "start_time": "2024-05-04T10:04:11.202988Z"
    }
   },
   "source": [
    "plt.figure(figsize=(20, 5))\n",
    "\n",
    "sns.countplot(x=df_ratings[\"rating_album\"])\n",
    "plt.xlabel(\"Rating Album\")\n",
    "plt.ylabel(\"Frequency\")\n",
    "plt.title(\"Distribution of Rating Album\")\n",
    "\n",
    "plt.tight_layout()\n",
    "plt.show()"
   ],
   "execution_count": 12,
   "outputs": []
  },
  {
   "cell_type": "code",
   "metadata": {
    "id": "PeUqf8zk216-",
    "colab": {
     "base_uri": "https://localhost:8080/",
     "height": 507
    },
    "outputId": "db3f5018-cf89-40f1-ec07-bf433d1834ee",
    "ExecuteTime": {
     "end_time": "2024-05-04T10:04:16.187180Z",
     "start_time": "2024-05-04T10:04:15.923332Z"
    }
   },
   "source": [
    "plt.figure(figsize=(10, 5))\n",
    "\n",
    "sns.countplot(df_ratings[\"link_user\"])\n",
    "plt.xlabel(\"Link User\")\n",
    "plt.ylabel(\"Frequency\")\n",
    "plt.title(\"Distribution of Link User\")\n",
    "\n",
    "plt.tight_layout()\n",
    "plt.show()"
   ],
   "execution_count": 13,
   "outputs": []
  },
  {
   "cell_type": "code",
   "metadata": {
    "id": "CQU_7T5z5xdM",
    "colab": {
     "base_uri": "https://localhost:8080/",
     "height": 654
    },
    "outputId": "ca73dc47-8209-4eba-e04a-95bb22545be0",
    "ExecuteTime": {
     "end_time": "2024-05-04T10:04:20.126300Z",
     "start_time": "2024-05-04T10:04:18.015382Z"
    }
   },
   "source": [
    "interaction_matrix = df_ratings.pivot_table(index='user', columns='link_album', values='rating_album')\n",
    "interaction_matrix"
   ],
   "execution_count": 14,
   "outputs": []
  },
  {
   "cell_type": "code",
   "metadata": {
    "id": "2BBTeybdyXOX",
    "colab": {
     "base_uri": "https://localhost:8080/",
     "height": 666
    },
    "outputId": "097eeaf4-4d23-408d-93b4-7de7f7c6cdd9",
    "ExecuteTime": {
     "end_time": "2024-05-04T10:04:20.147364Z",
     "start_time": "2024-05-04T10:04:20.128304Z"
    }
   },
   "source": [
    "df_filled = interaction_matrix.fillna(0)\n",
    "df_filled.T"
   ],
   "execution_count": 15,
   "outputs": []
  },
  {
   "cell_type": "code",
   "metadata": {
    "id": "i-aXE5uv7cBf",
    "ExecuteTime": {
     "end_time": "2024-05-04T10:04:20.969979Z",
     "start_time": "2024-05-04T10:04:20.966812Z"
    }
   },
   "source": [
    "def standardize(row):\n",
    "    new_row =(row - row.mean())/(row.max()-row.min())\n",
    "    return new_row"
   ],
   "execution_count": 16,
   "outputs": []
  },
  {
   "cell_type": "code",
   "metadata": {
    "id": "fpivT5LUxzNF",
    "colab": {
     "base_uri": "https://localhost:8080/"
    },
    "outputId": "167eb015-64cd-473f-bba8-13b6c2faf4b8",
    "ExecuteTime": {
     "end_time": "2024-05-04T10:04:24.161923Z",
     "start_time": "2024-05-04T10:04:22.798214Z"
    }
   },
   "source": [
    "from sklearn.metrics.pairwise import cosine_similarity\n",
    "\n",
    "ratings_std= df_filled.apply(standardize)\n",
    "ratings_std = ratings_std.fillna(0)\n",
    "item_similarity=cosine_similarity(ratings_std.T)\n",
    "item_similarity"
   ],
   "execution_count": 17,
   "outputs": []
  },
  {
   "cell_type": "code",
   "metadata": {
    "id": "LwGVPX5O8H5C",
    "colab": {
     "base_uri": "https://localhost:8080/",
     "height": 718
    },
    "outputId": "89a4cb3f-1bc1-4fbf-e7d4-3195ce8ab3e5",
    "ExecuteTime": {
     "end_time": "2024-05-04T10:05:30.094852Z",
     "start_time": "2024-05-04T10:05:29.143979Z"
    }
   },
   "source": [
    "item_similarity_df = pd.DataFrame(item_similarity,\n",
    "                                  index=ratings_std.columns,\n",
    "                                  columns=ratings_std.columns)\n",
    "\n",
    "item_similarity_df.T"
   ],
   "execution_count": 18,
   "outputs": []
  },
  {
   "cell_type": "code",
   "metadata": {
    "id": "8281cHo291lf",
    "ExecuteTime": {
     "end_time": "2024-05-04T10:06:14.049250Z",
     "start_time": "2024-05-04T10:06:14.044391Z"
    }
   },
   "source": [
    "def get_similar_album(album_name, user_rating):\n",
    "    similar_score = item_similarity_df[album_name]*(user_rating-50)\n",
    "    similar_score = similar_score.sort_values(ascending=False)\n",
    "    return similar_score"
   ],
   "execution_count": 19,
   "outputs": []
  },
  {
   "cell_type": "code",
   "metadata": {
    "id": "yzhlITBzAZiD",
    "colab": {
     "base_uri": "https://localhost:8080/"
    },
    "outputId": "54302dd0-078b-41ab-b61a-648049d9cfa7",
    "ExecuteTime": {
     "end_time": "2024-05-04T10:06:17.527614Z",
     "start_time": "2024-05-04T10:06:17.518273Z"
    }
   },
   "source": [
    "get_similar_album('https://www.albumoftheyear.org/album/100249-the-brobecks-violent-things.php', 80)"
   ],
   "execution_count": 20,
   "outputs": []
  },
  {
   "cell_type": "code",
   "metadata": {
    "id": "N-kr4zyOg4xl",
    "ExecuteTime": {
     "end_time": "2024-05-04T10:06:22.650545Z",
     "start_time": "2024-05-04T10:06:22.645914Z"
    }
   },
   "source": [
    "def get_similar_more_albums(user_ratings):\n",
    "    total_scores = pd.Series(dtype=float)\n",
    "    for album, rating in user_ratings:\n",
    "        similar_scores = item_similarity_df[album] * (rating - 50)\n",
    "        total_scores = total_scores.add(similar_scores, fill_value=0)\n",
    "    total_scores = total_scores.sort_values(ascending=False)\n",
    "    return total_scores\n"
   ],
   "execution_count": 21,
   "outputs": []
  },
  {
   "cell_type": "code",
   "metadata": {
    "id": "JeaJ2A3Cpj9p",
    "ExecuteTime": {
     "end_time": "2024-05-04T10:06:25.503620Z",
     "start_time": "2024-05-04T10:06:25.499382Z"
    }
   },
   "source": [
    "user_ratings = [\n",
    "    (\"https://www.albumoftheyear.org/album/100249-the-brobecks-violent-things.php\", 5),\n",
    "    (\"https://www.albumoftheyear.org/album/100035-young-fathers-cocoa-sugar.php\", 100),\n",
    "    (\"https://www.albumoftheyear.org/album/101215-mom-jeans-best-buds.php\", 10)\n",
    "]"
   ],
   "execution_count": 22,
   "outputs": []
  },
  {
   "cell_type": "code",
   "metadata": {
    "id": "LTK-W0bJ42C4",
    "ExecuteTime": {
     "end_time": "2024-05-04T10:06:28.402172Z",
     "start_time": "2024-05-04T10:06:28.398160Z"
    }
   },
   "source": [
    "#nyoba all taylor swift\n",
    "user_ratings = [('https://www.albumoftheyear.org/album/541510-taylor-swift-midnights.php',100),\n",
    "       ('https://www.albumoftheyear.org/album/934464-taylor-swift-the-tortured-poets-department-the-anthology.php', 100),\n",
    "       ('https://www.albumoftheyear.org/album/313572-taylor-swift-evermore.php',100),\n",
    "       ('https://www.albumoftheyear.org/album/264058-taylor-swift-folklore.php',100)]"
   ],
   "execution_count": 23,
   "outputs": []
  },
  {
   "cell_type": "code",
   "metadata": {
    "id": "SfZfh-m8psI5",
    "colab": {
     "base_uri": "https://localhost:8080/",
     "height": 423
    },
    "outputId": "0d8b121c-f646-40ed-e98c-fdb42e9d8ecc",
    "ExecuteTime": {
     "end_time": "2024-05-04T10:06:31.302809Z",
     "start_time": "2024-05-04T10:06:31.291574Z"
    }
   },
   "source": [
    "hasil = pd.DataFrame(get_similar_more_albums(user_ratings), columns=['score'])\n",
    "hasil_data = get_similar_more_albums(user_ratings)\n",
    "hasil = pd.DataFrame(hasil_data, columns=['score'])\n",
    "hasil['link_album'] = hasil_data.index\n",
    "hasil = hasil.reset_index(drop=True)\n",
    "\n",
    "hasil"
   ],
   "execution_count": 24,
   "outputs": []
  },
  {
   "cell_type": "code",
   "metadata": {
    "id": "qS0DJy-uwMd8",
    "colab": {
     "base_uri": "https://localhost:8080/",
     "height": 423
    },
    "outputId": "18010997-879d-4540-8c0d-b9880155c905",
    "ExecuteTime": {
     "end_time": "2024-05-04T10:06:48.113389Z",
     "start_time": "2024-05-04T10:06:48.105886Z"
    }
   },
   "source": "hasil",
   "execution_count": 25,
   "outputs": []
  },
  {
   "cell_type": "code",
   "metadata": {
    "id": "C6wcCAoQrmzJ",
    "colab": {
     "base_uri": "https://localhost:8080/",
     "height": 808
    },
    "outputId": "8974823e-a8f8-4bff-eb5a-ef459884bb8d",
    "ExecuteTime": {
     "end_time": "2024-05-04T10:07:10.570155Z",
     "start_time": "2024-05-04T10:07:10.529754Z"
    }
   },
   "source": [
    "df_albums = pd.read_csv('dataset/albums.csv', sep=';')\n",
    "df_albums"
   ],
   "execution_count": 27,
   "outputs": []
  },
  {
   "cell_type": "code",
   "metadata": {
    "id": "ZJYl9-ORtGuz",
    "colab": {
     "base_uri": "https://localhost:8080/"
    },
    "outputId": "4dd00b42-c7eb-496a-9936-3e0bb70edca4",
    "ExecuteTime": {
     "end_time": "2024-05-04T10:07:16.292435Z",
     "start_time": "2024-05-04T10:07:16.286277Z"
    }
   },
   "source": [
    "hasil.dtypes"
   ],
   "execution_count": 28,
   "outputs": []
  },
  {
   "cell_type": "code",
   "metadata": {
    "id": "icqdSzZRpyPy",
    "colab": {
     "base_uri": "https://localhost:8080/",
     "height": 808
    },
    "outputId": "2baa5b88-28c9-4a4c-b862-eb12a8310afd",
    "ExecuteTime": {
     "end_time": "2024-05-04T10:07:19.850014Z",
     "start_time": "2024-05-04T10:07:19.829668Z"
    }
   },
   "source": [
    "df_hasil = df_albums.join(hasil.set_index(\"link_album\"), on='link_album')\n",
    "df_hasil"
   ],
   "execution_count": 29,
   "outputs": []
  },
  {
   "cell_type": "code",
   "metadata": {
    "id": "NYo_Qy7D34pR",
    "colab": {
     "base_uri": "https://localhost:8080/"
    },
    "outputId": "b1ac6c66-d6da-4818-c0b0-31d1a80c55d3",
    "ExecuteTime": {
     "end_time": "2024-05-04T10:07:23.107869Z",
     "start_time": "2024-05-04T10:07:23.100662Z"
    }
   },
   "source": [
    "taylor_swift_data = df_hasil[df_hasil['artis'] == 'Taylor Swift']\n",
    "taylor_swift_data['link_album'].unique()"
   ],
   "execution_count": 30,
   "outputs": []
  },
  {
   "cell_type": "code",
   "metadata": {
    "id": "VgomhmXQ1DGL",
    "colab": {
     "base_uri": "https://localhost:8080/",
     "height": 764
    },
    "outputId": "31efd7c4-1ed3-467f-ec75-6cb9e5cff688",
    "ExecuteTime": {
     "end_time": "2024-05-04T10:07:25.895965Z",
     "start_time": "2024-05-04T10:07:25.883111Z"
    }
   },
   "source": [
    "sorted = df_hasil.sort_values(by='score', ascending=False)\n",
    "top_10 =sorted.head(10)\n",
    "top_10"
   ],
   "execution_count": 31,
   "outputs": []
  },
  {
   "cell_type": "code",
   "metadata": {
    "id": "sS73OydX2YxL",
    "colab": {
     "base_uri": "https://localhost:8080/"
    },
    "outputId": "30088a7f-92ef-4c5c-9516-81cfb469d59d",
    "ExecuteTime": {
     "end_time": "2024-05-04T10:07:29.182200Z",
     "start_time": "2024-05-04T10:07:29.177527Z"
    }
   },
   "source": [
    "df_hasil.score.nunique()"
   ],
   "execution_count": 32,
   "outputs": []
  },
  {
   "cell_type": "markdown",
   "metadata": {
    "id": "8QAsyqKNHKN1"
   },
   "source": [
    "# **Content Based Filtering**"
   ]
  },
  {
   "cell_type": "code",
   "metadata": {
    "id": "4092AH0734b_",
    "ExecuteTime": {
     "end_time": "2024-05-04T10:07:32.266594Z",
     "start_time": "2024-05-04T10:07:32.213621Z"
    }
   },
   "source": [
    "from sklearn.feature_extraction.text import TfidfVectorizer"
   ],
   "execution_count": 33,
   "outputs": []
  },
  {
   "cell_type": "code",
   "metadata": {
    "id": "_WVoWklKxAaa",
    "colab": {
     "base_uri": "https://localhost:8080/",
     "height": 455
    },
    "outputId": "ddb837d7-6609-4eda-9489-07a49d98e54d",
    "ExecuteTime": {
     "end_time": "2024-05-04T10:07:32.316435Z",
     "start_time": "2024-05-04T10:07:32.267602Z"
    }
   },
   "source": [
    "tabel = pd.DataFrame({\n",
    "    'link_album': df_albums['link_album'],\n",
    "    'genre': df_albums['genre'],\n",
    "    'artis': df_albums['artis'],\n",
    "    'label': df_albums['label'],\n",
    "    'produser': df_albums['produser'],\n",
    "    'penulis': df_albums['penulis']\n",
    "})\n",
    "\n",
    "tabel = tabel.apply(lambda x: x.str.replace(' ', '_'))\n",
    "tabel = tabel.apply(lambda x: x.str.replace('!', ''))\n",
    "tabel = tabel.apply(lambda x: x.str.replace('?', ''))\n",
    "tabel = tabel.apply(lambda x: x.str.replace('/', ''))\n",
    "tabel = tabel.apply(lambda x: x.str.replace('-', '_'))\n",
    "tabel = tabel.apply(lambda x: x.str.replace(\"'\", '_'))\n",
    "tabel = tabel.apply(lambda x: x.str.replace(';|', ' '))\n",
    "\n",
    "combined = pd.DataFrame({\n",
    "    'link_album': tabel['link_album'],\n",
    "    'corpus': tabel[['genre', 'artis', 'label', 'produser', 'penulis']].apply(lambda x: ' '.join(map(str, x)), axis=1)\n",
    "})\n",
    "\n",
    "combined = combined.set_index('link_album')\n",
    "combined = combined.apply(lambda x: x.str.replace('nan', ''))\n",
    "combined"
   ],
   "execution_count": 34,
   "outputs": []
  },
  {
   "cell_type": "code",
   "metadata": {
    "id": "DUJdPVWI3p5z",
    "colab": {
     "base_uri": "https://localhost:8080/"
    },
    "outputId": "0c10127f-260a-4304-b2a6-93051cbe7c1a",
    "ExecuteTime": {
     "end_time": "2024-05-04T10:07:35.531005Z",
     "start_time": "2024-05-04T10:07:35.518263Z"
    }
   },
   "source": [
    "corpus=combined.corpus.tolist()\n",
    "corpus"
   ],
   "execution_count": 35,
   "outputs": []
  },
  {
   "cell_type": "code",
   "metadata": {
    "id": "NDDlyZinBaGP",
    "ExecuteTime": {
     "end_time": "2024-05-04T10:07:38.393025Z",
     "start_time": "2024-05-04T10:07:38.387345Z"
    }
   },
   "source": [
    "from sklearn.feature_extraction.text import TfidfVectorizer\n",
    "def tfidf_similarity(query):\n",
    "    tfidf_vectorizer = TfidfVectorizer()\n",
    "    corpus = combined['corpus'].values\n",
    "    tfidf_vectorizer.fit(corpus)\n",
    "    query_tfidf = tfidf_vectorizer.transform([query])\n",
    "    corpus_tfidf = tfidf_vectorizer.transform(corpus)\n",
    "\n",
    "    similarity_scores = query_tfidf.dot(corpus_tfidf.T)\n",
    "\n",
    "    similarity_scores_dense = similarity_scores.toarray()\n",
    "\n",
    "    sorted_indices = np.argsort(similarity_scores_dense)[0][::-1]\n",
    "\n",
    "    relevant_links = combined.index[sorted_indices].tolist()\n",
    "\n",
    "    tfidf_scores = similarity_scores_dense[0][sorted_indices]\n",
    "\n",
    "    result = pd.DataFrame({'link_album': relevant_links, 'tfidf_score': tfidf_scores}).set_index('link_album')\n",
    "    result = result.apply(lambda x: x.str.replace('_', '-'))\n",
    "    return result"
   ],
   "execution_count": 36,
   "outputs": []
  },
  {
   "cell_type": "code",
   "metadata": {
    "id": "lE4pzACfE4du",
    "colab": {
     "base_uri": "https://localhost:8080/",
     "height": 394
    },
    "outputId": "4247bd42-a548-40d7-ad51-2000ac0539d5",
    "ExecuteTime": {
     "end_time": "2024-05-04T10:53:08.811248Z",
     "start_time": "2024-05-04T10:53:08.683570Z"
    }
   },
   "source": [
    "links = [\n",
    "    'https://www.albumoftheyear.org/album/541510-taylor-swift-midnights.php',\n",
    "    'https://www.albumoftheyear.org/album/934464-taylor-swift-the-tortured-poets-department-the-anthology.php',\n",
    "    'https://www.albumoftheyear.org/album/313572-taylor-swift-evermore.php',\n",
    "    'https://www.albumoftheyear.org/album/264058-taylor-swift-folklore.php'\n",
    "    ]\n",
    "\n",
    "for i in range(len(links)):\n",
    "    links[i] = links[i].replace(\"-\", \"_\")\n",
    "\n",
    "query = combined.loc[combined.index.isin(links)]\n",
    "column_values = query['corpus'].astype(str)\n",
    "combined_string = ' '.join(column_values)\n",
    "words = combined_string.split()\n",
    "unique_words = list(set(words))\n",
    "query = ' '.join(unique_words)\n",
    "result= tfidf_similarity(query)\n",
    "result = result.drop(result.index[:len(links)])\n",
    "result = result.apply(lambda x: x.str.replace('_', '-'))\n",
    "result.head(10)"
   ],
   "execution_count": 39,
   "outputs": []
  },
  {
   "metadata": {},
   "cell_type": "code",
   "execution_count": null,
   "source": "",
   "outputs": []
  }
 ],
 "metadata": {
  "colab": {
   "provenance": []
  },
  "kernelspec": {
   "display_name": "Python 3 (ipykernel)",
   "name": "python3",
   "language": "python"
  },
  "language_info": {
   "name": "python"
  }
 },
 "nbformat": 4,
 "nbformat_minor": 0
}

{
 "cells": [
  {
   "cell_type": "code",
   "metadata": {
    "ExecuteTime": {
     "end_time": "2024-05-05T06:07:40.299990Z",
     "start_time": "2024-05-05T06:07:40.194118Z"
    }
   },
   "source": [
    "import pandas as pd\n",
    "\n",
    "df_album = pd.read_csv('./albums.csv', sep=';')\n",
    "df_rating = pd.read_csv('./ratings.csv', sep=';')"
   ],
   "outputs": [],
   "execution_count": 1
  },
  {
   "cell_type": "code",
   "metadata": {
    "ExecuteTime": {
     "end_time": "2024-05-05T06:07:40.322194Z",
     "start_time": "2024-05-05T06:07:40.301001Z"
    }
   },
   "source": [
    "df_album['link_artis'] = df_album['link_artis'].str.replace('https://www.albumoftheyear.org/', '')\n",
    "df_album['link_review'] = df_album['link_review'].str.replace('https://www.albumoftheyear.org/', '')\n",
    "df_album['link_album'] = df_album['link_album'].str.replace('https://www.albumoftheyear.org/', '')\n",
    "\n",
    "df_rating['link_album'] = df_rating['link_album'].str.replace('https://www.albumoftheyear.org/', '')\n",
    "df_rating['link_user'] = df_rating['link_user'].str.replace('https://www.albumoftheyear.org/', '')"
   ],
   "outputs": [],
   "execution_count": 2
  },
  {
   "cell_type": "code",
   "metadata": {
    "ExecuteTime": {
     "end_time": "2024-05-05T06:07:40.419970Z",
     "start_time": "2024-05-05T06:07:40.324201Z"
    }
   },
   "source": [
    "df_album.to_csv('albums.csv', index=False, sep=';', encoding='utf-8')\n",
    "df_rating.to_csv('ratings.csv', index=False, sep=';', encoding='utf-8')"
   ],
   "outputs": [],
   "execution_count": 3
  }
 ],
 "metadata": {
  "kernelspec": {
   "display_name": "Python 3",
   "language": "python",
   "name": "python3"
  },
  "language_info": {
   "codemirror_mode": {
    "name": "ipython",
    "version": 3
   },
   "file_extension": ".py",
   "mimetype": "text/x-python",
   "name": "python",
   "nbconvert_exporter": "python",
   "pygments_lexer": "ipython3",
   "version": "3.11.9"
  }
 },
 "nbformat": 4,
 "nbformat_minor": 2
}
